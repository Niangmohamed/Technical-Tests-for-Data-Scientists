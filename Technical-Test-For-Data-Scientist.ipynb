{
 "cells": [
  {
   "cell_type": "markdown",
   "metadata": {},
   "source": [
    "# Technical Tests for Data Scientists \n",
    "       By Mohamed Niang, Data Scientist / ML Engineer"
   ]
  },
  {
   "cell_type": "markdown",
   "metadata": {},
   "source": [
    "Presentation \n",
    "\n",
    "This notebook is a compilation of technical test exercises and answers for data scientists and Computer Scientist."
   ]
  },
  {
   "cell_type": "markdown",
   "metadata": {},
   "source": [
    "## Exercise 0"
   ]
  },
  {
   "cell_type": "markdown",
   "metadata": {},
   "source": [
    "QUESTION\n",
    "\n",
    "Our client is a French bank with international subsidiaries.\n",
    "\n",
    "This client consults us to help him with the following problem: the bank is losing customers in its French market.\n",
    "\n",
    "Following a Data Science approach, formulate an answer to the following 3 questions:\n",
    "\n",
    "1.\tWhat are the questions to ask our client to understand his problem?\n",
    "2.\tWhat data would you need to retrieve from the customer to conduct one or more analysis(s) on his problem?\n",
    "3.\tDescribe the technical approach you would propose to our client to solve his problem. "
   ]
  },
  {
   "cell_type": "markdown",
   "metadata": {},
   "source": [
    "ANSWERS\n",
    "\n",
    "1. The questions that can be asked to the client to understand the problem are :\n",
    "    - Characteristics of clients who have already churned (left the bank);\n",
    "    - the behaviors (predictors) of these clients before the churn occurred.\n",
    "\n",
    "\n",
    "2.  We need labeled client data consisting of their behaviors (predictors) and a binary churn response variable (yes or no).\n",
    "\n",
    "\n",
    "3. The technical approach to solving the problem is the use of supervised learning methods to solve the problem (using the XGBoost model or logistic regression)."
   ]
  },
  {
   "cell_type": "markdown",
   "metadata": {},
   "source": [
    "## Exercise 1"
   ]
  },
  {
   "cell_type": "markdown",
   "metadata": {},
   "source": [
    "Array Challenge\n",
    "\n",
    "Have the function ArrayChallenge(arr) read the array of numbers stored in arr which will contain a sliding window size, N, as the first element in the array and the rest will be a list of numbers. Your program should return the Moving Median for each element based on the element and its N-1 predecessors, where N is the sliding window size. The final output should be a string with the moving median corresponding to each entry in the original array separated by commas.\n",
    "\n",
    "Note that for the first few elements (until the window size is reached), the median is computed on a smaller number of entries. For example: if arr is [3, 1, 3, 5, 10, 6, 4, 3, 1] then your program should output \"1,2,3,5,6,6,4,3\""
   ]
  },
  {
   "cell_type": "code",
   "execution_count": 1,
   "metadata": {},
   "outputs": [],
   "source": [
    "import pandas as pd\n",
    "\n",
    "def ArrayChallenge(arr):\n",
    "    \n",
    "    # code goes here\n",
    "    window = arr[0]\n",
    "    arg = pd.Series(arr[1:]) \n",
    "    opt = arg.rolling(window, min_periods=1).median().round().astype(int)\n",
    "    s = pd.Series(opt, dtype=\"string\")\n",
    "    res = s.astype(str).str.cat(sep=',')\n",
    "    \n",
    "    return res"
   ]
  },
  {
   "cell_type": "code",
   "execution_count": 2,
   "metadata": {},
   "outputs": [
    {
     "name": "stdout",
     "output_type": "stream",
     "text": [
      "1,2,3,5,6,6,4,3\n"
     ]
    }
   ],
   "source": [
    "# keep this function call here \n",
    "arr = [3,1,3,5,10,6,4,3,1]\n",
    "print(ArrayChallenge(arr))"
   ]
  },
  {
   "cell_type": "markdown",
   "metadata": {},
   "source": [
    "## Exercise 2"
   ]
  },
  {
   "cell_type": "markdown",
   "metadata": {},
   "source": [
    "Array Challenge\n",
    "\n",
    "Have the function ArrayChallenge(arr) take the array of numbers stored in arr and return the string true if any combination of numbers in the array (excluding the largest number) can be added up to equal the largest number in the array, otherwise return the string false. For example: if arr contains [4, 6, 23, 10, 1, 3] the output should return true because 4 + 6 + 10 + 3 = 23. The array will not be empty, will not contain all the same elements, and may contain negative numbers."
   ]
  },
  {
   "cell_type": "code",
   "execution_count": 3,
   "metadata": {},
   "outputs": [],
   "source": [
    "def ArrayChallenge(arr):   \n",
    "    \n",
    "    # code goes here\n",
    "    largest_number = arr[0]\n",
    "\n",
    "    for i in range(0, len(arr)):       \n",
    "        if(arr[i] > largest_number):    \n",
    "            largest_number = arr[i]\n",
    "\n",
    "    sum = 0\n",
    "\n",
    "    for elem in arr:\n",
    "        if elem != largest_number:\n",
    "            sum = sum + elem\n",
    "\n",
    "    res = sum >= largest_number\n",
    "\n",
    "    res = str(res).lower()\n",
    "\n",
    "    return res\n"
   ]
  },
  {
   "cell_type": "code",
   "execution_count": 4,
   "metadata": {},
   "outputs": [
    {
     "name": "stdout",
     "output_type": "stream",
     "text": [
      "true\n"
     ]
    }
   ],
   "source": [
    "# keep this function call here \n",
    "arr = [4,6,23,10,1,3]\n",
    "print(ArrayChallenge(arr))"
   ]
  },
  {
   "cell_type": "markdown",
   "metadata": {},
   "source": [
    "# Exercise 3"
   ]
  },
  {
   "cell_type": "markdown",
   "metadata": {},
   "source": [
    "Array Challenge\n",
    "\n",
    "Have the function ArrayChallenge(arr) take the array of non-negative integers stored in arr, and determine the largest amount of water that can be trapped. The numbers in the array represent the height of a building (where the width of each building is 1) and if you imagine it raining, water will be trapped between the two tallest buildings. For example: if arr is [3, 0, 2, 0, 4] then this array of building heights looks like the following picture if we draw it out:"
   ]
  },
  {
   "attachments": {},
   "cell_type": "markdown",
   "metadata": {},
   "source": [
    "![Image 1](https://media.geeksforgeeks.org/wp-content/uploads/20200429012307/Untitled-Diagram811.png)"
   ]
  },
  {
   "cell_type": "markdown",
   "metadata": {},
   "source": [
    "Now if you imagine it rains and water gets trapped in this picture, then it'll look like the following (represent water):"
   ]
  },
  {
   "attachments": {},
   "cell_type": "markdown",
   "metadata": {},
   "source": [
    "![Image 1](https://media.geeksforgeeks.org/wp-content/uploads/20200429012756/Untitled-Diagram821.png)"
   ]
  },
  {
   "cell_type": "markdown",
   "metadata": {},
   "source": [
    "This is the most water that can be trapped in this picture, and if you calculate the area you get 7, so your program should return 7."
   ]
  },
  {
   "cell_type": "code",
   "execution_count": 5,
   "metadata": {},
   "outputs": [],
   "source": [
    "def ArrayChallenge(arr):\n",
    "    \n",
    "    # code goes here\n",
    "    n = len(arr)\n",
    "    area = 0\n",
    "\n",
    "    for i in range(1,n-1):\n",
    "        left = arr[i]\n",
    "        for j in range(i):\n",
    "            left = max(left,arr[j])\n",
    "\n",
    "        right = arr[i]\n",
    "        for j in range(i+1,n):\n",
    "            right = max(right,arr[j])\n",
    "\n",
    "        area = area + (min(left,right) - arr[i]) \n",
    "\n",
    "    return area"
   ]
  },
  {
   "cell_type": "code",
   "execution_count": 6,
   "metadata": {},
   "outputs": [
    {
     "name": "stdout",
     "output_type": "stream",
     "text": [
      "7\n"
     ]
    }
   ],
   "source": [
    "# keep this function call here \n",
    "arr = [3,0,2,0,4]\n",
    "print(ArrayChallenge(arr))"
   ]
  },
  {
   "cell_type": "markdown",
   "metadata": {},
   "source": [
    "# Exercise 4"
   ]
  },
  {
   "cell_type": "markdown",
   "metadata": {},
   "source": [
    "Back-end Challenge\n",
    "\n",
    "In the Python file, write a program to perform a GET request on the route https://coderbyte.com/api/challenges/json/age-counting which contains a data key and the value is a string which contains items in the format: key=STRING, age=INTEGER. Your goal is to count how many items exist that have an age equal to or greater than 50, and print this final value."
   ]
  },
  {
   "cell_type": "code",
   "execution_count": 7,
   "metadata": {},
   "outputs": [],
   "source": [
    "import requests\n",
    "\n",
    "r = requests.get('https://coderbyte.com/api/challenges/json/age-counting')\n",
    "data = r.json()"
   ]
  },
  {
   "cell_type": "code",
   "execution_count": 8,
   "metadata": {},
   "outputs": [
    {
     "name": "stdout",
     "output_type": "stream",
     "text": [
      "128\n"
     ]
    }
   ],
   "source": [
    "count = 0\n",
    "\n",
    "for i,value in enumerate(data[\"data\"].split(\",\"),0):\n",
    "    if(i%2==1) and int(value.strip()[4:]) >= 50:\n",
    "        count = count + 1\n",
    "\n",
    "print(count)"
   ]
  }
 ],
 "metadata": {
  "kernelspec": {
   "display_name": "Python 3",
   "language": "python",
   "name": "python3"
  },
  "language_info": {
   "codemirror_mode": {
    "name": "ipython",
    "version": 3
   },
   "file_extension": ".py",
   "mimetype": "text/x-python",
   "name": "python",
   "nbconvert_exporter": "python",
   "pygments_lexer": "ipython3",
   "version": "3.7.7"
  }
 },
 "nbformat": 4,
 "nbformat_minor": 4
}
