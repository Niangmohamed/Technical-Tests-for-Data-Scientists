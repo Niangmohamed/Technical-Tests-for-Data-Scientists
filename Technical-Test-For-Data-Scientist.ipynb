{
 "cells": [
  {
   "cell_type": "markdown",
   "metadata": {},
   "source": [
    "# Technical Tests for Data Scientists \n",
    "       By Mohamed Niang, Data Scientist / ML Engineer"
   ]
  },
  {
   "cell_type": "markdown",
   "metadata": {},
   "source": [
    "Presentation \n",
    "\n",
    "This notebook is a compilation of technical test exercises and answers for data scientists and Computer Scientist."
   ]
  },
  {
   "cell_type": "markdown",
   "metadata": {},
   "source": [
    "## Exercise 0"
   ]
  },
  {
   "cell_type": "markdown",
   "metadata": {},
   "source": [
    "QUESTION\n",
    "\n",
    "Our client is a French bank with international subsidiaries.\n",
    "\n",
    "This client consults us to help him with the following problem: the bank is losing customers in its French market.\n",
    "\n",
    "Following a Data Science approach, formulate an answer to the following 3 questions:\n",
    "\n",
    "1.\tWhat are the questions to ask our client to understand his problem?\n",
    "2.\tWhat data would you need to retrieve from the customer to conduct one or more analysis(s) on his problem?\n",
    "3.\tDescribe the technical approach you would propose to our client to solve his problem. "
   ]
  },
  {
   "cell_type": "markdown",
   "metadata": {},
   "source": [
    "ANSWERS\n",
    "\n",
    "1. The questions that can be asked to the client to understand the problem are :\n",
    "    - Characteristics of clients who have already churned (left the bank);\n",
    "    - the behaviors (predictors) of these clients before the churn occurred.\n",
    "\n",
    "\n",
    "2.  We need labeled client data consisting of their behaviors (predictors) and a binary churn response variable (yes or no).\n",
    "\n",
    "\n",
    "3. The technical approach to solving the problem is the use of supervised learning methods to solve the problem (using the XGBoost model or logistic regression)."
   ]
  },
  {
   "cell_type": "markdown",
   "metadata": {},
   "source": [
    "## Exercise 1"
   ]
  },
  {
   "cell_type": "markdown",
   "metadata": {},
   "source": [
    "Array Challenge\n",
    "\n",
    "Have the function ArrayChallenge(arr) read the array of numbers stored in arr which will contain a sliding window size, N, as the first element in the array and the rest will be a list of numbers. Your program should return the Moving Median for each element based on the element and its N-1 predecessors, where N is the sliding window size. The final output should be a string with the moving median corresponding to each entry in the original array separated by commas.\n",
    "\n",
    "Note that for the first few elements (until the window size is reached), the median is computed on a smaller number of entries. For example: if arr is [3, 1, 3, 5, 10, 6, 4, 3, 1] then your program should output \"1,2,3,5,6,6,4,3\""
   ]
  },
  {
   "cell_type": "code",
   "execution_count": 1,
   "metadata": {},
   "outputs": [],
   "source": [
    "import pandas as pd\n",
    "\n",
    "def ArrayChallenge(arr):\n", 
    "    \n",
    "    # code goes here\n",
    "    window = arr[0]\n",
    "    arg = pd.Series(arr[1:]) \n",
    "    opt = arg.rolling(window, min_periods=1).median().round().astype(int)\n",
    "    s = pd.Series(opt, dtype=\"string\")\n",
    "    res = s.astype(str).str.cat(sep=',')\n",
    "    \n",
    "    return res"
   ]
  },
  {
   "cell_type": "code",
   "execution_count": 2,
   "metadata": {},
   "outputs": [
    {
     "name": "stdout",
     "output_type": "stream",
     "text": [
      "1,2,3,5,6,6,4,3\n"
     ]
    }
   ],
   "source": [
    "# keep this function call here \n",
    "arr = [3,1,3,5,10,6,4,3,1]\n",
    "print(ArrayChallenge(arr))"
   ]
  },
  {
   "cell_type": "markdown",
   "metadata": {},
   "source": [
    "## Exercise 2"
   ]
  },
  {
   "cell_type": "markdown",
   "metadata": {},
   "source": [
    "Array Challenge\n",
    "\n",
    "Have the function ArrayChallenge(arr) take the array of numbers stored in arr and return the string true if any combination of numbers in the array (excluding the largest number) can be added up to equal the largest number in the array, otherwise return the string false. For example: if arr contains [4, 6, 23, 10, 1, 3] the output should return true because 4 + 6 + 10 + 3 = 23. The array will not be empty, will not contain all the same elements, and may contain negative numbers."
   ]
  },
  {
   "cell_type": "code",
   "execution_count": 3,
   "metadata": {},
   "outputs": [],
   "source": [
    "def ArrayChallenge(arr):   \n",
    "    \n",
    "    # code goes here\n",
    "    largest_number = arr[0]\n",
    "\n",
    "    for i in range(0, len(arr)):       \n",
    "        if(arr[i] > largest_number):    \n",
    "            largest_number = arr[i]\n",
    "\n",
    "    sum = 0\n",
    "\n",
    "    for elem in arr:\n",
    "        if elem != largest_number:\n",
    "            sum = sum + elem\n",
    "\n",
    "    res = sum >= largest_number\n",
    "\n",
    "    res = str(res).lower()\n",
    "\n",
    "    return res\n"
   ]
  },
  {
   "cell_type": "code",
   "execution_count": 4,
   "metadata": {},
   "outputs": [
    {
     "name": "stdout",
     "output_type": "stream",
     "text": [
      "true\n"
     ]
    }
   ],
   "source": [
    "# keep this function call here \n",
    "arr = [4,6,23,10,1,3]\n",
    "print(ArrayChallenge(arr))"
   ]
  },
  {
   "cell_type": "markdown",
   "metadata": {},
   "source": [
    "# Exercise 3"
   ]
  },
  {
   "cell_type": "markdown",
   "metadata": {},
   "source": [
    "Array Challenge\n",
    "\n",
    "Have the function ArrayChallenge(arr) take the array of non-negative integers stored in arr, and determine the largest amount of water that can be trapped. The numbers in the array represent the height of a building (where the width of each building is 1) and if you imagine it raining, water will be trapped between the two tallest buildings. For example: if arr is [3, 0, 2, 0, 4] then this array of building heights looks like the following picture if we draw it out:"
   ]
  },
  {
   "attachments": {
    "image.png": {
     "image/png": "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"
    }
   },
   "cell_type": "markdown",
   "metadata": {},
   "source": [
    https://media.geeksforgeeks.org/wp-content/uploads/20200429012307/Untitled-Diagram811.png
   ]
  },
  {
   "cell_type": "markdown",
   "metadata": {},
   "source": [
    "Now if you imagine it rains and water gets trapped in this picture, then it'll look like the following (represent water):"
   ]
  },
  {
   "attachments": {
    "image.png": {
     "image/png": "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"
    }
   },
   "cell_type": "markdown",
   "metadata": {},
   "source": [
    "![image.png](attachment:image.png)"
   ]
  },
  {
   "cell_type": "markdown",
   "metadata": {},
   "source": [
    "This is the most water that can be trapped in this picture, and if you calculate the area you get 7, so your program should return 7."
   ]
  },
  {
   "cell_type": "code",
   "execution_count": 5,
   "metadata": {},
   "outputs": [],
   "source": [
    "def ArrayChallenge(arr):\n",
    "    \n",
    "    # code goes here\n",
    "    n = len(arr)\n",
    "    area = 0\n",
    "\n",
    "    for i in range(1,n-1):\n",
    "        left = arr[i]\n",
    "        for j in range(i):\n",
    "            left = max(left,arr[j])\n",
    "\n",
    "        right = arr[i]\n",
    "        for j in range(i+1,n):\n",
    "            right = max(right,arr[j])\n",
    "\n",
    "        area = area + (min(left,right) - arr[i]) \n",
    "\n",
    "    return area"
   ]
  },
  {
   "cell_type": "code",
   "execution_count": 6,
   "metadata": {},
   "outputs": [
    {
     "name": "stdout",
     "output_type": "stream",
     "text": [
      "7\n"
     ]
    }
   ],
   "source": [
    "# keep this function call here \n",
    "arr = [3,0,2,0,4]\n",
    "print(ArrayChallenge(arr))"
   ]
  },
  {
   "cell_type": "markdown",
   "metadata": {},
   "source": [
    "# Exercise 4"
   ]
  },
  {
   "cell_type": "markdown",
   "metadata": {},
   "source": [
    "Back-end Challenge\n",
    "\n",
    "In the Python file, write a program to perform a GET request on the route https://coderbyte.com/api/challenges/json/age-counting which contains a data key and the value is a string which contains items in the format: key=STRING, age=INTEGER. Your goal is to count how many items exist that have an age equal to or greater than 50, and print this final value."
   ]
  },
  {
   "cell_type": "code",
   "execution_count": 7,
   "metadata": {},
   "outputs": [],
   "source": [
    "import requests\n",
    "\n",
    "r = requests.get('https://coderbyte.com/api/challenges/json/age-counting')\n",
    "data = r.json()"
   ]
  },
  {
   "cell_type": "code",
   "execution_count": 8,
   "metadata": {},
   "outputs": [
    {
     "name": "stdout",
     "output_type": "stream",
     "text": [
      "128\n"
     ]
    }
   ],
   "source": [
    "count = 0\n",
    "\n",
    "for i,value in enumerate(data[\"data\"].split(\",\"),0):\n",
    "    if(i%2==1) and int(value.strip()[4:]) >= 50:\n",
    "        count = count + 1\n",
    "\n",
    "print(count)"
   ]
  }
 ],
 "metadata": {
  "kernelspec": {
   "display_name": "Python 3",
   "language": "python",
   "name": "python3"
  },
  "language_info": {
   "codemirror_mode": {
    "name": "ipython",
    "version": 3
   },
   "file_extension": ".py",
   "mimetype": "text/x-python",
   "name": "python",
   "nbconvert_exporter": "python",
   "pygments_lexer": "ipython3",
   "version": "3.7.7"
  }
 },
 "nbformat": 4,
 "nbformat_minor": 4
}
